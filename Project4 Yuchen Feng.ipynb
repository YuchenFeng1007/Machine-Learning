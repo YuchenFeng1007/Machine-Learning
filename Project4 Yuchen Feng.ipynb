{
 "cells": [
  {
   "cell_type": "markdown",
   "id": "cbe10f5b",
   "metadata": {},
   "source": [
    "# Project 3 Yuchen Feng"
   ]
  },
  {
   "cell_type": "markdown",
   "id": "f2abf072",
   "metadata": {},
   "source": [
    "# II. Qualitative Dependent Variable Models"
   ]
  },
  {
   "cell_type": "code",
   "execution_count": 1,
   "id": "4c1dd457",
   "metadata": {},
   "outputs": [],
   "source": [
    "# age (numeric)\n",
    "# job : type of job (categorical:admin.','bluecollar','entrepreneur','housemaid','management','retired','selfemployed','services','student','technician','unemployed','unknown')\n",
    "# marital : marital status (categorical:'divorced','married','single','unknown'; note: 'divorced' means divorced or widowed)\n",
    "# education (categorical: 'basic.4y','basic.6y','basic.9y','high.school','illiterate','professional.course','university.degree','unknown')\n",
    "# default: has credit in default? (categorical: 'no','yes','unknown')\n",
    "# balance: average yearly balance, in euros (numeric)\n",
    "# housing: has housing loan? (categorical: 'no','yes','unknown')\n",
    "# loan: has personal loan? (categorical: 'no','yes','unknown')\n",
    "# contact: contact communication type (categorical:'cellular','telephone')\n",
    "# day: last contact day of the month (numeric 1 -31)\n",
    "# month: last contact month of year (categorical: 'jan', 'feb','mar', …, 'nov', 'dec')\n",
    "# duration: last contact duration, in seconds (numeric).\n",
    "# Important note: this attribute highly affects the output target (e.g., ifduration=0 then y='no'). Yet, the duration is not known before a call is performed. Also, after the end of the call y is obviously known.Thus, this input should only be included for benchmark purposes and should be discarded if the intention is to have a realistic\n",
    "# predictive model.\n",
    "# campaign: number of contacts performed during this campaign and for this client (numeric, includes last contact)\n",
    "# pdays: number of days that passed by after the client was last contacted from a previous campaign (numeric; 999 means client was not previously contacted)\n",
    "# previous: number of contacts performed before this campaign and for this client (numeric)\n",
    "# poutcome: outcome of the previous marketing campaign(categorical: 'failure','nonexistent','success')\n",
    "# target: has the client subscribed a term deposit? (binary:\"yes\",\"no\")"
   ]
  },
  {
   "cell_type": "code",
   "execution_count": 2,
   "id": "bfa1f4a8",
   "metadata": {},
   "outputs": [],
   "source": [
    "import statsmodels.formula.api as smf\n",
    "import statsmodels.api as sm\n",
    "import pandas as pd\n",
    "import numpy as np\n",
    "import matplotlib.pyplot as plt\n",
    "import scipy.stats as stats\n",
    "import seaborn as sns"
   ]
  },
  {
   "cell_type": "code",
   "execution_count": 3,
   "id": "1e8783de",
   "metadata": {},
   "outputs": [
    {
     "data": {
      "text/html": [
       "<div>\n",
       "<style scoped>\n",
       "    .dataframe tbody tr th:only-of-type {\n",
       "        vertical-align: middle;\n",
       "    }\n",
       "\n",
       "    .dataframe tbody tr th {\n",
       "        vertical-align: top;\n",
       "    }\n",
       "\n",
       "    .dataframe thead th {\n",
       "        text-align: right;\n",
       "    }\n",
       "</style>\n",
       "<table border=\"1\" class=\"dataframe\">\n",
       "  <thead>\n",
       "    <tr style=\"text-align: right;\">\n",
       "      <th></th>\n",
       "      <th>col</th>\n",
       "      <th>age</th>\n",
       "      <th>job</th>\n",
       "      <th>marital</th>\n",
       "      <th>education</th>\n",
       "      <th>default</th>\n",
       "      <th>balance</th>\n",
       "      <th>housing</th>\n",
       "      <th>loan</th>\n",
       "      <th>contact</th>\n",
       "      <th>day</th>\n",
       "      <th>month</th>\n",
       "      <th>duration</th>\n",
       "      <th>campaign</th>\n",
       "      <th>pdays</th>\n",
       "      <th>previous</th>\n",
       "      <th>poutcome</th>\n",
       "      <th>Target</th>\n",
       "    </tr>\n",
       "  </thead>\n",
       "  <tbody>\n",
       "    <tr>\n",
       "      <th>0</th>\n",
       "      <td>1.0</td>\n",
       "      <td>58</td>\n",
       "      <td>management</td>\n",
       "      <td>married</td>\n",
       "      <td>tertiary</td>\n",
       "      <td>no</td>\n",
       "      <td>2143</td>\n",
       "      <td>yes</td>\n",
       "      <td>no</td>\n",
       "      <td>unknown</td>\n",
       "      <td>5</td>\n",
       "      <td>may</td>\n",
       "      <td>261</td>\n",
       "      <td>1</td>\n",
       "      <td>-1</td>\n",
       "      <td>0</td>\n",
       "      <td>unknown</td>\n",
       "      <td>no</td>\n",
       "    </tr>\n",
       "    <tr>\n",
       "      <th>1</th>\n",
       "      <td>2.0</td>\n",
       "      <td>44</td>\n",
       "      <td>technician</td>\n",
       "      <td>single</td>\n",
       "      <td>secondary</td>\n",
       "      <td>no</td>\n",
       "      <td>29</td>\n",
       "      <td>yes</td>\n",
       "      <td>no</td>\n",
       "      <td>unknown</td>\n",
       "      <td>5</td>\n",
       "      <td>may</td>\n",
       "      <td>151</td>\n",
       "      <td>1</td>\n",
       "      <td>-1</td>\n",
       "      <td>0</td>\n",
       "      <td>unknown</td>\n",
       "      <td>no</td>\n",
       "    </tr>\n",
       "    <tr>\n",
       "      <th>2</th>\n",
       "      <td>3.0</td>\n",
       "      <td>33</td>\n",
       "      <td>entrepreneur</td>\n",
       "      <td>married</td>\n",
       "      <td>secondary</td>\n",
       "      <td>no</td>\n",
       "      <td>2</td>\n",
       "      <td>yes</td>\n",
       "      <td>yes</td>\n",
       "      <td>unknown</td>\n",
       "      <td>5</td>\n",
       "      <td>may</td>\n",
       "      <td>76</td>\n",
       "      <td>1</td>\n",
       "      <td>-1</td>\n",
       "      <td>0</td>\n",
       "      <td>unknown</td>\n",
       "      <td>no</td>\n",
       "    </tr>\n",
       "    <tr>\n",
       "      <th>3</th>\n",
       "      <td>4.0</td>\n",
       "      <td>47</td>\n",
       "      <td>blue-collar</td>\n",
       "      <td>married</td>\n",
       "      <td>unknown</td>\n",
       "      <td>no</td>\n",
       "      <td>1506</td>\n",
       "      <td>yes</td>\n",
       "      <td>no</td>\n",
       "      <td>unknown</td>\n",
       "      <td>5</td>\n",
       "      <td>may</td>\n",
       "      <td>92</td>\n",
       "      <td>1</td>\n",
       "      <td>-1</td>\n",
       "      <td>0</td>\n",
       "      <td>unknown</td>\n",
       "      <td>no</td>\n",
       "    </tr>\n",
       "    <tr>\n",
       "      <th>4</th>\n",
       "      <td>5.0</td>\n",
       "      <td>33</td>\n",
       "      <td>unknown</td>\n",
       "      <td>single</td>\n",
       "      <td>unknown</td>\n",
       "      <td>no</td>\n",
       "      <td>1</td>\n",
       "      <td>no</td>\n",
       "      <td>no</td>\n",
       "      <td>unknown</td>\n",
       "      <td>5</td>\n",
       "      <td>may</td>\n",
       "      <td>198</td>\n",
       "      <td>1</td>\n",
       "      <td>-1</td>\n",
       "      <td>0</td>\n",
       "      <td>unknown</td>\n",
       "      <td>no</td>\n",
       "    </tr>\n",
       "  </tbody>\n",
       "</table>\n",
       "</div>"
      ],
      "text/plain": [
       "   col  age           job  marital  education default  balance housing loan  \\\n",
       "0  1.0   58    management  married   tertiary      no     2143     yes   no   \n",
       "1  2.0   44    technician   single  secondary      no       29     yes   no   \n",
       "2  3.0   33  entrepreneur  married  secondary      no        2     yes  yes   \n",
       "3  4.0   47   blue-collar  married    unknown      no     1506     yes   no   \n",
       "4  5.0   33       unknown   single    unknown      no        1      no   no   \n",
       "\n",
       "   contact  day month  duration  campaign  pdays  previous poutcome Target  \n",
       "0  unknown    5   may       261         1     -1         0  unknown     no  \n",
       "1  unknown    5   may       151         1     -1         0  unknown     no  \n",
       "2  unknown    5   may        76         1     -1         0  unknown     no  \n",
       "3  unknown    5   may        92         1     -1         0  unknown     no  \n",
       "4  unknown    5   may       198         1     -1         0  unknown     no  "
      ]
     },
     "execution_count": 3,
     "metadata": {},
     "output_type": "execute_result"
    }
   ],
   "source": [
    "bank = pd.read_csv('/Users/hongtingfei/Desktop/MQE/2022-2023Fall/Econ430/bank.csv',index_col=False)\n",
    "bank.head()"
   ]
  },
  {
   "cell_type": "code",
   "execution_count": 4,
   "id": "433b5c22",
   "metadata": {},
   "outputs": [],
   "source": [
    "bank1=bank[['Target','age','job','marital','education','default','balance','housing','loan']]"
   ]
  },
  {
   "cell_type": "code",
   "execution_count": 5,
   "id": "7022f1de",
   "metadata": {},
   "outputs": [
    {
     "name": "stdout",
     "output_type": "stream",
     "text": [
      "<class 'pandas.core.frame.DataFrame'>\n",
      "RangeIndex: 45211 entries, 0 to 45210\n",
      "Data columns (total 9 columns):\n",
      " #   Column     Non-Null Count  Dtype \n",
      "---  ------     --------------  ----- \n",
      " 0   Target     45211 non-null  object\n",
      " 1   age        45211 non-null  int64 \n",
      " 2   job        45211 non-null  object\n",
      " 3   marital    45211 non-null  object\n",
      " 4   education  45211 non-null  object\n",
      " 5   default    45211 non-null  object\n",
      " 6   balance    45211 non-null  int64 \n",
      " 7   housing    45211 non-null  object\n",
      " 8   loan       45211 non-null  object\n",
      "dtypes: int64(2), object(7)\n",
      "memory usage: 3.1+ MB\n"
     ]
    }
   ],
   "source": [
    "bank1.info()"
   ]
  },
  {
   "cell_type": "markdown",
   "id": "1517c95b",
   "metadata": {},
   "source": [
    "Since there are many columns reveal the full story that whether or not has the client subscribed a term deposit, some of the variables economically telling the same story. If we put these variables into the study, the correlation bewteen independent variables will be high enough causing the multicollinearity. Thus, we manually decided the variables that we focus on and run the test. "
   ]
  },
  {
   "cell_type": "markdown",
   "id": "ba218743",
   "metadata": {},
   "source": [
    "## 1. Data Preprocessing"
   ]
  },
  {
   "cell_type": "markdown",
   "id": "47e8235e",
   "metadata": {},
   "source": [
    "### Assign the dependent variable 'Target' as a dummy variable"
   ]
  },
  {
   "cell_type": "code",
   "execution_count": 6,
   "id": "ed6ace08",
   "metadata": {},
   "outputs": [
    {
     "name": "stderr",
     "output_type": "stream",
     "text": [
      "/var/folders/mx/8zlzbwcd4lndtb3lb2bwxdkm0000gn/T/ipykernel_72959/4001220698.py:2: SettingWithCopyWarning: \n",
      "A value is trying to be set on a copy of a slice from a DataFrame.\n",
      "Try using .loc[row_indexer,col_indexer] = value instead\n",
      "\n",
      "See the caveats in the documentation: https://pandas.pydata.org/pandas-docs/stable/user_guide/indexing.html#returning-a-view-versus-a-copy\n",
      "  bank1['Target']=bank['Target'].replace(num)\n"
     ]
    },
    {
     "data": {
      "text/html": [
       "<div>\n",
       "<style scoped>\n",
       "    .dataframe tbody tr th:only-of-type {\n",
       "        vertical-align: middle;\n",
       "    }\n",
       "\n",
       "    .dataframe tbody tr th {\n",
       "        vertical-align: top;\n",
       "    }\n",
       "\n",
       "    .dataframe thead th {\n",
       "        text-align: right;\n",
       "    }\n",
       "</style>\n",
       "<table border=\"1\" class=\"dataframe\">\n",
       "  <thead>\n",
       "    <tr style=\"text-align: right;\">\n",
       "      <th></th>\n",
       "      <th>Target</th>\n",
       "      <th>age</th>\n",
       "      <th>job</th>\n",
       "      <th>marital</th>\n",
       "      <th>education</th>\n",
       "      <th>default</th>\n",
       "      <th>balance</th>\n",
       "      <th>housing</th>\n",
       "      <th>loan</th>\n",
       "    </tr>\n",
       "  </thead>\n",
       "  <tbody>\n",
       "    <tr>\n",
       "      <th>0</th>\n",
       "      <td>0</td>\n",
       "      <td>58</td>\n",
       "      <td>management</td>\n",
       "      <td>married</td>\n",
       "      <td>tertiary</td>\n",
       "      <td>no</td>\n",
       "      <td>2143</td>\n",
       "      <td>yes</td>\n",
       "      <td>no</td>\n",
       "    </tr>\n",
       "    <tr>\n",
       "      <th>1</th>\n",
       "      <td>0</td>\n",
       "      <td>44</td>\n",
       "      <td>technician</td>\n",
       "      <td>single</td>\n",
       "      <td>secondary</td>\n",
       "      <td>no</td>\n",
       "      <td>29</td>\n",
       "      <td>yes</td>\n",
       "      <td>no</td>\n",
       "    </tr>\n",
       "    <tr>\n",
       "      <th>2</th>\n",
       "      <td>0</td>\n",
       "      <td>33</td>\n",
       "      <td>entrepreneur</td>\n",
       "      <td>married</td>\n",
       "      <td>secondary</td>\n",
       "      <td>no</td>\n",
       "      <td>2</td>\n",
       "      <td>yes</td>\n",
       "      <td>yes</td>\n",
       "    </tr>\n",
       "    <tr>\n",
       "      <th>3</th>\n",
       "      <td>0</td>\n",
       "      <td>47</td>\n",
       "      <td>blue-collar</td>\n",
       "      <td>married</td>\n",
       "      <td>unknown</td>\n",
       "      <td>no</td>\n",
       "      <td>1506</td>\n",
       "      <td>yes</td>\n",
       "      <td>no</td>\n",
       "    </tr>\n",
       "    <tr>\n",
       "      <th>4</th>\n",
       "      <td>0</td>\n",
       "      <td>33</td>\n",
       "      <td>unknown</td>\n",
       "      <td>single</td>\n",
       "      <td>unknown</td>\n",
       "      <td>no</td>\n",
       "      <td>1</td>\n",
       "      <td>no</td>\n",
       "      <td>no</td>\n",
       "    </tr>\n",
       "  </tbody>\n",
       "</table>\n",
       "</div>"
      ],
      "text/plain": [
       "   Target  age           job  marital  education default  balance housing loan\n",
       "0       0   58    management  married   tertiary      no     2143     yes   no\n",
       "1       0   44    technician   single  secondary      no       29     yes   no\n",
       "2       0   33  entrepreneur  married  secondary      no        2     yes  yes\n",
       "3       0   47   blue-collar  married    unknown      no     1506     yes   no\n",
       "4       0   33       unknown   single    unknown      no        1      no   no"
      ]
     },
     "execution_count": 6,
     "metadata": {},
     "output_type": "execute_result"
    }
   ],
   "source": [
    "num={'no':0,'yes':1}\n",
    "bank1['Target']=bank['Target'].replace(num)\n",
    "bank1.head()"
   ]
  },
  {
   "cell_type": "markdown",
   "id": "0626c4fe",
   "metadata": {},
   "source": [
    "### Convert categorical type data into numeric type"
   ]
  },
  {
   "cell_type": "code",
   "execution_count": 7,
   "id": "925514ad",
   "metadata": {},
   "outputs": [],
   "source": [
    "bank_num=bank1.select_dtypes(['int64','float64'])\n",
    "bank_cat=bank1.select_dtypes(object)"
   ]
  },
  {
   "cell_type": "code",
   "execution_count": 8,
   "id": "7e9c79d6",
   "metadata": {},
   "outputs": [
    {
     "data": {
      "text/html": [
       "<div>\n",
       "<style scoped>\n",
       "    .dataframe tbody tr th:only-of-type {\n",
       "        vertical-align: middle;\n",
       "    }\n",
       "\n",
       "    .dataframe tbody tr th {\n",
       "        vertical-align: top;\n",
       "    }\n",
       "\n",
       "    .dataframe thead th {\n",
       "        text-align: right;\n",
       "    }\n",
       "</style>\n",
       "<table border=\"1\" class=\"dataframe\">\n",
       "  <thead>\n",
       "    <tr style=\"text-align: right;\">\n",
       "      <th></th>\n",
       "      <th>Target</th>\n",
       "      <th>age</th>\n",
       "      <th>balance</th>\n",
       "    </tr>\n",
       "  </thead>\n",
       "  <tbody>\n",
       "    <tr>\n",
       "      <th>0</th>\n",
       "      <td>0</td>\n",
       "      <td>58</td>\n",
       "      <td>2143</td>\n",
       "    </tr>\n",
       "    <tr>\n",
       "      <th>1</th>\n",
       "      <td>0</td>\n",
       "      <td>44</td>\n",
       "      <td>29</td>\n",
       "    </tr>\n",
       "    <tr>\n",
       "      <th>2</th>\n",
       "      <td>0</td>\n",
       "      <td>33</td>\n",
       "      <td>2</td>\n",
       "    </tr>\n",
       "    <tr>\n",
       "      <th>3</th>\n",
       "      <td>0</td>\n",
       "      <td>47</td>\n",
       "      <td>1506</td>\n",
       "    </tr>\n",
       "    <tr>\n",
       "      <th>4</th>\n",
       "      <td>0</td>\n",
       "      <td>33</td>\n",
       "      <td>1</td>\n",
       "    </tr>\n",
       "  </tbody>\n",
       "</table>\n",
       "</div>"
      ],
      "text/plain": [
       "   Target  age  balance\n",
       "0       0   58     2143\n",
       "1       0   44       29\n",
       "2       0   33        2\n",
       "3       0   47     1506\n",
       "4       0   33        1"
      ]
     },
     "execution_count": 8,
     "metadata": {},
     "output_type": "execute_result"
    }
   ],
   "source": [
    "bank_num.head()"
   ]
  },
  {
   "cell_type": "code",
   "execution_count": 9,
   "id": "4c06e690",
   "metadata": {},
   "outputs": [
    {
     "data": {
      "text/html": [
       "<div>\n",
       "<style scoped>\n",
       "    .dataframe tbody tr th:only-of-type {\n",
       "        vertical-align: middle;\n",
       "    }\n",
       "\n",
       "    .dataframe tbody tr th {\n",
       "        vertical-align: top;\n",
       "    }\n",
       "\n",
       "    .dataframe thead th {\n",
       "        text-align: right;\n",
       "    }\n",
       "</style>\n",
       "<table border=\"1\" class=\"dataframe\">\n",
       "  <thead>\n",
       "    <tr style=\"text-align: right;\">\n",
       "      <th></th>\n",
       "      <th>job</th>\n",
       "      <th>marital</th>\n",
       "      <th>education</th>\n",
       "      <th>default</th>\n",
       "      <th>housing</th>\n",
       "      <th>loan</th>\n",
       "    </tr>\n",
       "  </thead>\n",
       "  <tbody>\n",
       "    <tr>\n",
       "      <th>0</th>\n",
       "      <td>management</td>\n",
       "      <td>married</td>\n",
       "      <td>tertiary</td>\n",
       "      <td>no</td>\n",
       "      <td>yes</td>\n",
       "      <td>no</td>\n",
       "    </tr>\n",
       "    <tr>\n",
       "      <th>1</th>\n",
       "      <td>technician</td>\n",
       "      <td>single</td>\n",
       "      <td>secondary</td>\n",
       "      <td>no</td>\n",
       "      <td>yes</td>\n",
       "      <td>no</td>\n",
       "    </tr>\n",
       "    <tr>\n",
       "      <th>2</th>\n",
       "      <td>entrepreneur</td>\n",
       "      <td>married</td>\n",
       "      <td>secondary</td>\n",
       "      <td>no</td>\n",
       "      <td>yes</td>\n",
       "      <td>yes</td>\n",
       "    </tr>\n",
       "    <tr>\n",
       "      <th>3</th>\n",
       "      <td>blue-collar</td>\n",
       "      <td>married</td>\n",
       "      <td>unknown</td>\n",
       "      <td>no</td>\n",
       "      <td>yes</td>\n",
       "      <td>no</td>\n",
       "    </tr>\n",
       "    <tr>\n",
       "      <th>4</th>\n",
       "      <td>unknown</td>\n",
       "      <td>single</td>\n",
       "      <td>unknown</td>\n",
       "      <td>no</td>\n",
       "      <td>no</td>\n",
       "      <td>no</td>\n",
       "    </tr>\n",
       "  </tbody>\n",
       "</table>\n",
       "</div>"
      ],
      "text/plain": [
       "            job  marital  education default housing loan\n",
       "0    management  married   tertiary      no     yes   no\n",
       "1    technician   single  secondary      no     yes   no\n",
       "2  entrepreneur  married  secondary      no     yes  yes\n",
       "3   blue-collar  married    unknown      no     yes   no\n",
       "4       unknown   single    unknown      no      no   no"
      ]
     },
     "execution_count": 9,
     "metadata": {},
     "output_type": "execute_result"
    }
   ],
   "source": [
    "bank_cat.head()"
   ]
  },
  {
   "cell_type": "code",
   "execution_count": 10,
   "id": "6852e62c",
   "metadata": {},
   "outputs": [
    {
     "data": {
      "text/html": [
       "<div>\n",
       "<style scoped>\n",
       "    .dataframe tbody tr th:only-of-type {\n",
       "        vertical-align: middle;\n",
       "    }\n",
       "\n",
       "    .dataframe tbody tr th {\n",
       "        vertical-align: top;\n",
       "    }\n",
       "\n",
       "    .dataframe thead th {\n",
       "        text-align: right;\n",
       "    }\n",
       "</style>\n",
       "<table border=\"1\" class=\"dataframe\">\n",
       "  <thead>\n",
       "    <tr style=\"text-align: right;\">\n",
       "      <th></th>\n",
       "      <th>Target</th>\n",
       "      <th>age</th>\n",
       "      <th>balance</th>\n",
       "      <th>job</th>\n",
       "      <th>marital</th>\n",
       "      <th>education</th>\n",
       "      <th>default</th>\n",
       "      <th>housing</th>\n",
       "      <th>loan</th>\n",
       "    </tr>\n",
       "  </thead>\n",
       "  <tbody>\n",
       "    <tr>\n",
       "      <th>0</th>\n",
       "      <td>0</td>\n",
       "      <td>58</td>\n",
       "      <td>2143</td>\n",
       "      <td>4</td>\n",
       "      <td>1</td>\n",
       "      <td>2</td>\n",
       "      <td>0</td>\n",
       "      <td>1</td>\n",
       "      <td>0</td>\n",
       "    </tr>\n",
       "    <tr>\n",
       "      <th>1</th>\n",
       "      <td>0</td>\n",
       "      <td>44</td>\n",
       "      <td>29</td>\n",
       "      <td>9</td>\n",
       "      <td>2</td>\n",
       "      <td>1</td>\n",
       "      <td>0</td>\n",
       "      <td>1</td>\n",
       "      <td>0</td>\n",
       "    </tr>\n",
       "    <tr>\n",
       "      <th>2</th>\n",
       "      <td>0</td>\n",
       "      <td>33</td>\n",
       "      <td>2</td>\n",
       "      <td>2</td>\n",
       "      <td>1</td>\n",
       "      <td>1</td>\n",
       "      <td>0</td>\n",
       "      <td>1</td>\n",
       "      <td>1</td>\n",
       "    </tr>\n",
       "    <tr>\n",
       "      <th>3</th>\n",
       "      <td>0</td>\n",
       "      <td>47</td>\n",
       "      <td>1506</td>\n",
       "      <td>1</td>\n",
       "      <td>1</td>\n",
       "      <td>3</td>\n",
       "      <td>0</td>\n",
       "      <td>1</td>\n",
       "      <td>0</td>\n",
       "    </tr>\n",
       "    <tr>\n",
       "      <th>4</th>\n",
       "      <td>0</td>\n",
       "      <td>33</td>\n",
       "      <td>1</td>\n",
       "      <td>11</td>\n",
       "      <td>2</td>\n",
       "      <td>3</td>\n",
       "      <td>0</td>\n",
       "      <td>0</td>\n",
       "      <td>0</td>\n",
       "    </tr>\n",
       "  </tbody>\n",
       "</table>\n",
       "</div>"
      ],
      "text/plain": [
       "   Target  age  balance  job  marital  education  default  housing  loan\n",
       "0       0   58     2143    4        1          2        0        1     0\n",
       "1       0   44       29    9        2          1        0        1     0\n",
       "2       0   33        2    2        1          1        0        1     1\n",
       "3       0   47     1506    1        1          3        0        1     0\n",
       "4       0   33        1   11        2          3        0        0     0"
      ]
     },
     "execution_count": 10,
     "metadata": {},
     "output_type": "execute_result"
    }
   ],
   "source": [
    "# To convert categorical type data into numeric type.\n",
    "# Use Label Encoder\n",
    "from sklearn.preprocessing import LabelEncoder\n",
    "\n",
    "for col in bank_cat:\n",
    "    # create an object of LabelEncoder\n",
    "    le=LabelEncoder()\n",
    "    bank_cat[col]=le.fit_transform(bank_cat[col])\n",
    "\n",
    "\n",
    "# After applying LabelEncoder we concatenate bank_cat and bank_num.\n",
    "bank_new=pd.concat([bank_num,bank_cat],axis=1)\n",
    "\n",
    "bank_new.head()"
   ]
  },
  {
   "cell_type": "code",
   "execution_count": 11,
   "id": "ebc2ba91",
   "metadata": {},
   "outputs": [
    {
     "data": {
      "text/plain": [
       "array([ 4,  9,  2,  1, 11,  5,  0,  7,  6, 10,  3,  8])"
      ]
     },
     "execution_count": 11,
     "metadata": {},
     "output_type": "execute_result"
    }
   ],
   "source": [
    "bank_new['job'].unique()"
   ]
  },
  {
   "cell_type": "code",
   "execution_count": 12,
   "id": "d89e4e55",
   "metadata": {},
   "outputs": [
    {
     "data": {
      "text/html": [
       "<div>\n",
       "<style scoped>\n",
       "    .dataframe tbody tr th:only-of-type {\n",
       "        vertical-align: middle;\n",
       "    }\n",
       "\n",
       "    .dataframe tbody tr th {\n",
       "        vertical-align: top;\n",
       "    }\n",
       "\n",
       "    .dataframe thead th {\n",
       "        text-align: right;\n",
       "    }\n",
       "</style>\n",
       "<table border=\"1\" class=\"dataframe\">\n",
       "  <thead>\n",
       "    <tr style=\"text-align: right;\">\n",
       "      <th></th>\n",
       "      <th>Target</th>\n",
       "      <th>age</th>\n",
       "      <th>balance</th>\n",
       "      <th>job</th>\n",
       "      <th>marital</th>\n",
       "      <th>education</th>\n",
       "      <th>default</th>\n",
       "      <th>housing</th>\n",
       "      <th>loan</th>\n",
       "    </tr>\n",
       "  </thead>\n",
       "  <tbody>\n",
       "    <tr>\n",
       "      <th>count</th>\n",
       "      <td>45211.000000</td>\n",
       "      <td>45211.000000</td>\n",
       "      <td>45211.000000</td>\n",
       "      <td>45211.000000</td>\n",
       "      <td>45211.000000</td>\n",
       "      <td>45211.000000</td>\n",
       "      <td>45211.000000</td>\n",
       "      <td>45211.000000</td>\n",
       "      <td>45211.000000</td>\n",
       "    </tr>\n",
       "    <tr>\n",
       "      <th>mean</th>\n",
       "      <td>0.116985</td>\n",
       "      <td>40.936210</td>\n",
       "      <td>1362.272058</td>\n",
       "      <td>4.339762</td>\n",
       "      <td>1.167725</td>\n",
       "      <td>1.224813</td>\n",
       "      <td>0.018027</td>\n",
       "      <td>0.555838</td>\n",
       "      <td>0.160226</td>\n",
       "    </tr>\n",
       "    <tr>\n",
       "      <th>std</th>\n",
       "      <td>0.321406</td>\n",
       "      <td>10.618762</td>\n",
       "      <td>3044.765829</td>\n",
       "      <td>3.272657</td>\n",
       "      <td>0.608230</td>\n",
       "      <td>0.747997</td>\n",
       "      <td>0.133049</td>\n",
       "      <td>0.496878</td>\n",
       "      <td>0.366820</td>\n",
       "    </tr>\n",
       "    <tr>\n",
       "      <th>min</th>\n",
       "      <td>0.000000</td>\n",
       "      <td>18.000000</td>\n",
       "      <td>-8019.000000</td>\n",
       "      <td>0.000000</td>\n",
       "      <td>0.000000</td>\n",
       "      <td>0.000000</td>\n",
       "      <td>0.000000</td>\n",
       "      <td>0.000000</td>\n",
       "      <td>0.000000</td>\n",
       "    </tr>\n",
       "    <tr>\n",
       "      <th>25%</th>\n",
       "      <td>0.000000</td>\n",
       "      <td>33.000000</td>\n",
       "      <td>72.000000</td>\n",
       "      <td>1.000000</td>\n",
       "      <td>1.000000</td>\n",
       "      <td>1.000000</td>\n",
       "      <td>0.000000</td>\n",
       "      <td>0.000000</td>\n",
       "      <td>0.000000</td>\n",
       "    </tr>\n",
       "    <tr>\n",
       "      <th>50%</th>\n",
       "      <td>0.000000</td>\n",
       "      <td>39.000000</td>\n",
       "      <td>448.000000</td>\n",
       "      <td>4.000000</td>\n",
       "      <td>1.000000</td>\n",
       "      <td>1.000000</td>\n",
       "      <td>0.000000</td>\n",
       "      <td>1.000000</td>\n",
       "      <td>0.000000</td>\n",
       "    </tr>\n",
       "    <tr>\n",
       "      <th>75%</th>\n",
       "      <td>0.000000</td>\n",
       "      <td>48.000000</td>\n",
       "      <td>1428.000000</td>\n",
       "      <td>7.000000</td>\n",
       "      <td>2.000000</td>\n",
       "      <td>2.000000</td>\n",
       "      <td>0.000000</td>\n",
       "      <td>1.000000</td>\n",
       "      <td>0.000000</td>\n",
       "    </tr>\n",
       "    <tr>\n",
       "      <th>max</th>\n",
       "      <td>1.000000</td>\n",
       "      <td>95.000000</td>\n",
       "      <td>102127.000000</td>\n",
       "      <td>11.000000</td>\n",
       "      <td>2.000000</td>\n",
       "      <td>3.000000</td>\n",
       "      <td>1.000000</td>\n",
       "      <td>1.000000</td>\n",
       "      <td>1.000000</td>\n",
       "    </tr>\n",
       "  </tbody>\n",
       "</table>\n",
       "</div>"
      ],
      "text/plain": [
       "             Target           age        balance           job       marital  \\\n",
       "count  45211.000000  45211.000000   45211.000000  45211.000000  45211.000000   \n",
       "mean       0.116985     40.936210    1362.272058      4.339762      1.167725   \n",
       "std        0.321406     10.618762    3044.765829      3.272657      0.608230   \n",
       "min        0.000000     18.000000   -8019.000000      0.000000      0.000000   \n",
       "25%        0.000000     33.000000      72.000000      1.000000      1.000000   \n",
       "50%        0.000000     39.000000     448.000000      4.000000      1.000000   \n",
       "75%        0.000000     48.000000    1428.000000      7.000000      2.000000   \n",
       "max        1.000000     95.000000  102127.000000     11.000000      2.000000   \n",
       "\n",
       "          education       default       housing          loan  \n",
       "count  45211.000000  45211.000000  45211.000000  45211.000000  \n",
       "mean       1.224813      0.018027      0.555838      0.160226  \n",
       "std        0.747997      0.133049      0.496878      0.366820  \n",
       "min        0.000000      0.000000      0.000000      0.000000  \n",
       "25%        1.000000      0.000000      0.000000      0.000000  \n",
       "50%        1.000000      0.000000      1.000000      0.000000  \n",
       "75%        2.000000      0.000000      1.000000      0.000000  \n",
       "max        3.000000      1.000000      1.000000      1.000000  "
      ]
     },
     "execution_count": 12,
     "metadata": {},
     "output_type": "execute_result"
    }
   ],
   "source": [
    "bank_new.describe()"
   ]
  },
  {
   "cell_type": "code",
   "execution_count": 13,
   "id": "52a9cf6c",
   "metadata": {},
   "outputs": [],
   "source": [
    "#save data after basic data cleaning\n",
    "from pathlib import Path  \n",
    "filepath = Path('/Users/hongtingfei/Desktop/MQE/2022-2023Fall/Econ430/bank_processed.csv')  \n",
    "filepath.parent.mkdir(parents=True, exist_ok=True)  \n",
    "bank_new.to_csv(filepath) "
   ]
  },
  {
   "cell_type": "markdown",
   "id": "79f8cee1",
   "metadata": {},
   "source": [
    "### Model Variable Selection"
   ]
  },
  {
   "cell_type": "code",
   "execution_count": 14,
   "id": "2fd241de",
   "metadata": {},
   "outputs": [],
   "source": [
    "#library to use R in Python \n",
    "import rpy2\n",
    "\n",
    "import warnings\n",
    "warnings.filterwarnings('ignore')\n",
    "\n",
    "from rpy2.robjects import pandas2ri\n",
    "import rpy2.rinterface as rinterface\n",
    "pandas2ri.activate()\n",
    "\n",
    "%load_ext rpy2.ipython"
   ]
  },
  {
   "cell_type": "code",
   "execution_count": 15,
   "id": "6fd0bced",
   "metadata": {},
   "outputs": [
    {
     "name": "stderr",
     "output_type": "stream",
     "text": [
      "R[write to console]:  1. run of importance source...\n",
      "\n",
      "R[write to console]:  2. run of importance source...\n",
      "\n",
      "R[write to console]:  3. run of importance source...\n",
      "\n",
      "R[write to console]:  4. run of importance source...\n",
      "\n",
      "R[write to console]:  5. run of importance source...\n",
      "\n",
      "R[write to console]:  6. run of importance source...\n",
      "\n",
      "R[write to console]:  7. run of importance source...\n",
      "\n",
      "R[write to console]:  8. run of importance source...\n",
      "\n",
      "R[write to console]:  9. run of importance source...\n",
      "\n",
      "R[write to console]:  10. run of importance source...\n",
      "\n",
      "R[write to console]: After 10 iterations, +1.7 mins: \n",
      "\n",
      "R[write to console]:  confirmed 7 attributes: age, balance, education, housing, job and 2 more;\n",
      "\n",
      "R[write to console]:  still have 1 attribute left.\n",
      "\n",
      "\n",
      "R[write to console]:  11. run of importance source...\n",
      "\n",
      "R[write to console]:  12. run of importance source...\n",
      "\n",
      "R[write to console]:  13. run of importance source...\n",
      "\n",
      "R[write to console]:  14. run of importance source...\n",
      "\n",
      "R[write to console]:  15. run of importance source...\n",
      "\n",
      "R[write to console]:  16. run of importance source...\n",
      "\n",
      "R[write to console]:  17. run of importance source...\n",
      "\n",
      "R[write to console]:  18. run of importance source...\n",
      "\n",
      "R[write to console]:  19. run of importance source...\n",
      "\n",
      "R[write to console]:  20. run of importance source...\n",
      "\n",
      "R[write to console]:  21. run of importance source...\n",
      "\n",
      "R[write to console]: After 21 iterations, +3.6 mins: \n",
      "\n",
      "R[write to console]:  confirmed 1 attribute: default;\n",
      "\n",
      "R[write to console]:  no more attributes left.\n",
      "\n",
      "\n"
     ]
    }
   ],
   "source": [
    "%%R\n",
    "#install.packages(\"Boruta\")\n",
    "bankf<-read.csv('/Users/hongtingfei/Desktop/MQE/2022-2023Fall/Econ430/bank_processed.csv')\n",
    "keeps <- c(\"Target\", \"age\",\"balance\",\"job\",\"marital\",\"education\",\"default\",\"housing\",'loan')\n",
    "bankf=bankf[keeps]\n",
    "library(Boruta)\n",
    "boruta.reg <- Boruta( Target~., data = bankf, doTrace = 2)"
   ]
  },
  {
   "cell_type": "code",
   "execution_count": 16,
   "id": "9c218e0a",
   "metadata": {},
   "outputs": [
    {
     "name": "stdout",
     "output_type": "stream",
     "text": [
      "Boruta performed 21 iterations in 3.635173 mins.\n",
      " 8 attributes confirmed important: age, balance, default, education,\n",
      "housing and 3 more;\n",
      " No attributes deemed unimportant.\n"
     ]
    },
    {
     "data": {
      "image/png": "[encoded data removed]"
     },
     "metadata": {},
     "output_type": "display_data"
    }
   ],
   "source": [
    "%%R\n",
    "\n",
    "boruta.reg_result <- TentativeRoughFix(boruta.reg)\n",
    "print(boruta.reg_result)\n",
    "\n",
    "plot(boruta.reg_result, xlab = \"\", xaxt = \"n\")\n",
    "lz<-lapply(1:ncol(boruta.reg_result$ImpHistory),function(i)\n",
    "  boruta.reg_result$ImpHistory[is.finite(boruta.reg_result$ImpHistory[,i]),i])\n",
    "names(lz) <- colnames(boruta.reg_result$ImpHistory)\n",
    "Labels <- sort(sapply(lz,median))\n",
    "axis(side = 1,las=2,labels = names(Labels),\n",
    "     at = 1:ncol(boruta.reg_result$ImpHistory), cex.axis = 0.7)"
   ]
  },
  {
   "cell_type": "code",
   "execution_count": null,
   "id": "4d2861bb",
   "metadata": {},
   "outputs": [],
   "source": []
  },
  {
   "cell_type": "markdown",
   "id": "1bc5abde",
   "metadata": {},
   "source": [
    "## 2. Descriptive Analysis"
   ]
  },
  {
   "cell_type": "code",
   "execution_count": 34,
   "id": "bd66bea8",
   "metadata": {},
   "outputs": [
    {
     "data": {
      "text/html": [
       "<div>\n",
       "<style scoped>\n",
       "    .dataframe tbody tr th:only-of-type {\n",
       "        vertical-align: middle;\n",
       "    }\n",
       "\n",
       "    .dataframe tbody tr th {\n",
       "        vertical-align: top;\n",
       "    }\n",
       "\n",
       "    .dataframe thead th {\n",
       "        text-align: right;\n",
       "    }\n",
       "</style>\n",
       "<table border=\"1\" class=\"dataframe\">\n",
       "  <thead>\n",
       "    <tr style=\"text-align: right;\">\n",
       "      <th></th>\n",
       "      <th>Target</th>\n",
       "      <th>age</th>\n",
       "      <th>balance</th>\n",
       "      <th>job</th>\n",
       "      <th>marital</th>\n",
       "      <th>education</th>\n",
       "      <th>default</th>\n",
       "      <th>housing</th>\n",
       "      <th>loan</th>\n",
       "    </tr>\n",
       "  </thead>\n",
       "  <tbody>\n",
       "    <tr>\n",
       "      <th>count</th>\n",
       "      <td>45211.000000</td>\n",
       "      <td>45211.000000</td>\n",
       "      <td>45211.000000</td>\n",
       "      <td>45211.000000</td>\n",
       "      <td>45211.000000</td>\n",
       "      <td>45211.000000</td>\n",
       "      <td>45211.000000</td>\n",
       "      <td>45211.000000</td>\n",
       "      <td>45211.000000</td>\n",
       "    </tr>\n",
       "    <tr>\n",
       "      <th>mean</th>\n",
       "      <td>0.116985</td>\n",
       "      <td>40.936210</td>\n",
       "      <td>1362.272058</td>\n",
       "      <td>4.339762</td>\n",
       "      <td>1.167725</td>\n",
       "      <td>1.224813</td>\n",
       "      <td>0.018027</td>\n",
       "      <td>0.555838</td>\n",
       "      <td>0.160226</td>\n",
       "    </tr>\n",
       "    <tr>\n",
       "      <th>std</th>\n",
       "      <td>0.321406</td>\n",
       "      <td>10.618762</td>\n",
       "      <td>3044.765829</td>\n",
       "      <td>3.272657</td>\n",
       "      <td>0.608230</td>\n",
       "      <td>0.747997</td>\n",
       "      <td>0.133049</td>\n",
       "      <td>0.496878</td>\n",
       "      <td>0.366820</td>\n",
       "    </tr>\n",
       "    <tr>\n",
       "      <th>min</th>\n",
       "      <td>0.000000</td>\n",
       "      <td>18.000000</td>\n",
       "      <td>-8019.000000</td>\n",
       "      <td>0.000000</td>\n",
       "      <td>0.000000</td>\n",
       "      <td>0.000000</td>\n",
       "      <td>0.000000</td>\n",
       "      <td>0.000000</td>\n",
       "      <td>0.000000</td>\n",
       "    </tr>\n",
       "    <tr>\n",
       "      <th>25%</th>\n",
       "      <td>0.000000</td>\n",
       "      <td>33.000000</td>\n",
       "      <td>72.000000</td>\n",
       "      <td>1.000000</td>\n",
       "      <td>1.000000</td>\n",
       "      <td>1.000000</td>\n",
       "      <td>0.000000</td>\n",
       "      <td>0.000000</td>\n",
       "      <td>0.000000</td>\n",
       "    </tr>\n",
       "    <tr>\n",
       "      <th>50%</th>\n",
       "      <td>0.000000</td>\n",
       "      <td>39.000000</td>\n",
       "      <td>448.000000</td>\n",
       "      <td>4.000000</td>\n",
       "      <td>1.000000</td>\n",
       "      <td>1.000000</td>\n",
       "      <td>0.000000</td>\n",
       "      <td>1.000000</td>\n",
       "      <td>0.000000</td>\n",
       "    </tr>\n",
       "    <tr>\n",
       "      <th>75%</th>\n",
       "      <td>0.000000</td>\n",
       "      <td>48.000000</td>\n",
       "      <td>1428.000000</td>\n",
       "      <td>7.000000</td>\n",
       "      <td>2.000000</td>\n",
       "      <td>2.000000</td>\n",
       "      <td>0.000000</td>\n",
       "      <td>1.000000</td>\n",
       "      <td>0.000000</td>\n",
       "    </tr>\n",
       "    <tr>\n",
       "      <th>max</th>\n",
       "      <td>1.000000</td>\n",
       "      <td>95.000000</td>\n",
       "      <td>102127.000000</td>\n",
       "      <td>11.000000</td>\n",
       "      <td>2.000000</td>\n",
       "      <td>3.000000</td>\n",
       "      <td>1.000000</td>\n",
       "      <td>1.000000</td>\n",
       "      <td>1.000000</td>\n",
       "    </tr>\n",
       "  </tbody>\n",
       "</table>\n",
       "</div>"
      ],
      "text/plain": [
       "             Target           age        balance           job       marital  \\\n",
       "count  45211.000000  45211.000000   45211.000000  45211.000000  45211.000000   \n",
       "mean       0.116985     40.936210    1362.272058      4.339762      1.167725   \n",
       "std        0.321406     10.618762    3044.765829      3.272657      0.608230   \n",
       "min        0.000000     18.000000   -8019.000000      0.000000      0.000000   \n",
       "25%        0.000000     33.000000      72.000000      1.000000      1.000000   \n",
       "50%        0.000000     39.000000     448.000000      4.000000      1.000000   \n",
       "75%        0.000000     48.000000    1428.000000      7.000000      2.000000   \n",
       "max        1.000000     95.000000  102127.000000     11.000000      2.000000   \n",
       "\n",
       "          education       default       housing          loan  \n",
       "count  45211.000000  45211.000000  45211.000000  45211.000000  \n",
       "mean       1.224813      0.018027      0.555838      0.160226  \n",
       "std        0.747997      0.133049      0.496878      0.366820  \n",
       "min        0.000000      0.000000      0.000000      0.000000  \n",
       "25%        1.000000      0.000000      0.000000      0.000000  \n",
       "50%        1.000000      0.000000      1.000000      0.000000  \n",
       "75%        2.000000      0.000000      1.000000      0.000000  \n",
       "max        3.000000      1.000000      1.000000      1.000000  "
      ]
     },
     "execution_count": 34,
     "metadata": {},
     "output_type": "execute_result"
    }
   ],
   "source": [
    "bank_new.describe()"
   ]
  },
  {
   "cell_type": "code",
   "execution_count": 36,
   "id": "34d5700a",
   "metadata": {},
   "outputs": [
    {
     "data": {
      "text/plain": [
       "Target       2.383480\n",
       "age          0.684818\n",
       "balance      8.360308\n",
       "job          0.261755\n",
       "marital     -0.102826\n",
       "education    0.197275\n",
       "default      7.245375\n",
       "housing     -0.224766\n",
       "loan         1.852617\n",
       "dtype: float64"
      ]
     },
     "execution_count": 36,
     "metadata": {},
     "output_type": "execute_result"
    }
   ],
   "source": [
    "bank_new.skew()"
   ]
  },
  {
   "cell_type": "markdown",
   "id": "eb477f54",
   "metadata": {},
   "source": [
    "### Histograms"
   ]
  },
  {
   "cell_type": "code",
   "execution_count": null,
   "id": "035beda6",
   "metadata": {},
   "outputs": [],
   "source": [
    "import matplotlib.pyplot as plt"
   ]
  },
  {
   "cell_type": "code",
   "execution_count": 37,
   "id": "f1e5569e",
   "metadata": {},
   "outputs": [
    {
     "data": {
      "image/png": "[encoded data removed]",
      "text/plain": [
       "<Figure size 2016x1440 with 9 Axes>"
      ]
     },
     "metadata": {
      "needs_background": "light"
     },
     "output_type": "display_data"
    }
   ],
   "source": [
    "#'Target','age', 'balance', 'job', 'marital', 'education', 'default', 'housing', 'loan'\n",
    "\n",
    "plt.figure(figsize=(28,20))\n",
    "ax1 = plt.subplot2grid((3,4), (0,0))\n",
    "x1 = bank_new.Target\n",
    "res = plt.hist(x1,alpha = .5)\n",
    "label=plt.xlabel(\"Target\")\n",
    "\n",
    "ax2 = plt.subplot2grid((3,4), (0,1))\n",
    "x2 = bank_new.age\n",
    "res = plt.hist(x2,alpha = .5)\n",
    "label=plt.xlabel(\"age\")\n",
    "\n",
    "ax3 = plt.subplot2grid((3,4), (0, 2))\n",
    "x3 = bank_new.balance\n",
    "res = plt.hist(x3,alpha = .5)\n",
    "label=plt.xlabel(\"balance\")\n",
    "\n",
    "ax4 = plt.subplot2grid((3,4), (0, 3))\n",
    "x4 = bank_new.job\n",
    "res = plt.hist(x4,alpha = .5)\n",
    "label=plt.xlabel(\"job\")\n",
    "\n",
    "ax5 = plt.subplot2grid((3,4), (1, 0))\n",
    "x5 = bank_new.marital\n",
    "res = plt.hist(x5,alpha = .5)\n",
    "label=plt.xlabel(\"marital\")\n",
    "\n",
    "ax6 = plt.subplot2grid((3,4), (1,1))\n",
    "x6 = bank_new.education\n",
    "res = plt.hist(x6,alpha = .5)\n",
    "label=plt.xlabel(\"education\")\n",
    "\n",
    "ax7 = plt.subplot2grid((3,4), (1,2))\n",
    "x7 = bank_new.default\n",
    "res = plt.hist(x7,alpha = .5)\n",
    "label=plt.xlabel(\"default\")\n",
    "\n",
    "ax8 = plt.subplot2grid((3,4), (1, 3))\n",
    "x8 = bank_new.housing\n",
    "res = plt.hist(x8,alpha = .5)\n",
    "label=plt.xlabel(\"housing\")\n",
    "\n",
    "ax9 = plt.subplot2grid((3,4), (2, 0))\n",
    "x9 = bank_new.loan\n",
    "res = plt.hist(x9,alpha = .5)\n",
    "label=plt.xlabel(\"loan\")\n",
    "\n",
    "\n",
    "plt.show()"
   ]
  },
  {
   "cell_type": "markdown",
   "id": "fe3992b1",
   "metadata": {},
   "source": [
    "From the histograms, we can tell that the independent variables 'age' and 'education' are kind of normally distribubted, and 'balance' and 'job' show potential bias. 'marital', 'default', 'housing' and 'loan' dummy variables."
   ]
  },
  {
   "cell_type": "markdown",
   "id": "b4f6dd20",
   "metadata": {},
   "source": [
    "### QQ Plot"
   ]
  },
  {
   "cell_type": "code",
   "execution_count": 38,
   "id": "17252695",
   "metadata": {},
   "outputs": [
    {
     "data": {
      "image/png": "[encoded data removed]",
      "text/plain": [
       "<Figure size 2016x1440 with 9 Axes>"
      ]
     },
     "metadata": {
      "needs_background": "light"
     },
     "output_type": "display_data"
    }
   ],
   "source": [
    "#'Target','age', 'balance', 'job', 'marital', 'education', 'default', 'housing', 'loan'\n",
    "\n",
    "plt.figure(figsize=(28,20))\n",
    "ax1 = plt.subplot2grid((3,4), (0,0))\n",
    "x1 = bank_new.Target\n",
    "res = stats.probplot(x1,dist=\"norm\", plot=plt)\n",
    "\n",
    "ax2 = plt.subplot2grid((3,4), (0,1))\n",
    "x2 = bank_new.age\n",
    "res = stats.probplot(x2,dist=\"norm\", plot=plt)\n",
    "\n",
    "ax3 = plt.subplot2grid((3,4), (0, 2))\n",
    "x3 = bank_new.balance\n",
    "res = stats.probplot(x3,dist=\"norm\", plot=plt)\n",
    "\n",
    "ax4 = plt.subplot2grid((3,4), (0, 3))\n",
    "x4 = bank_new.job\n",
    "res = stats.probplot(x4,dist=\"norm\", plot=plt)\n",
    "\n",
    "ax5 = plt.subplot2grid((3,4), (1, 0))\n",
    "x5 = bank_new.marital\n",
    "res = stats.probplot(x5,dist=\"norm\", plot=plt)\n",
    "\n",
    "ax6 = plt.subplot2grid((3,4), (1,1))\n",
    "x6 = bank_new.education\n",
    "res = stats.probplot(x6,dist=\"norm\", plot=plt)\n",
    "\n",
    "ax7 = plt.subplot2grid((3,4), (1,2))\n",
    "x7 = bank_new.default\n",
    "res = stats.probplot(x7,dist=\"norm\", plot=plt)\n",
    "\n",
    "ax8 = plt.subplot2grid((3,4), (1, 3))\n",
    "x8 = bank_new.housing\n",
    "res = stats.probplot(x8,dist=\"norm\", plot=plt)\n",
    "\n",
    "ax9 = plt.subplot2grid((3,4), (2, 0))\n",
    "x9 = bank_new.loan\n",
    "res = stats.probplot(x9,dist=\"norm\", plot=plt)\n",
    "\n",
    "plt.show()"
   ]
  },
  {
   "cell_type": "markdown",
   "id": "bee59221",
   "metadata": {},
   "source": [
    "From QQ plots, we can see that only 'age' are close to the normal line and the left part of 'balance' are identical to it as well. 'job' is nearly around the normal line. Other variables are dummy variables which cross the lines by stages."
   ]
  },
  {
   "cell_type": "markdown",
   "id": "f7c8bf2b",
   "metadata": {},
   "source": [
    "### Correlation Plot"
   ]
  },
  {
   "cell_type": "code",
   "execution_count": 39,
   "id": "c66c67e5",
   "metadata": {},
   "outputs": [
    {
     "data": {
      "image/png": "[encoded data removed]",
      "text/plain": [
       "<Figure size 720x576 with 2 Axes>"
      ]
     },
     "metadata": {
      "needs_background": "light"
     },
     "output_type": "display_data"
    }
   ],
   "source": [
    "sub_data =  bank_new[['Target','age', 'balance', 'job', 'marital', 'education', 'default', 'housing', 'loan']]\n",
    "corr = sub_data.corr()\n",
    "fig, ax = plt.subplots(figsize=(10, 8))\n",
    "colormap = sns.diverging_palette(220, 10, as_cmap = True)\n",
    "dropvals = np.zeros_like(corr)\n",
    "dropvals[np.triu_indices_from(dropvals)] = True\n",
    "sns.heatmap(corr, cmap = colormap, linewidths = .5, annot = True, fmt = \".2f\", mask = dropvals)\n",
    "plt.show()"
   ]
  },
  {
   "cell_type": "markdown",
   "id": "0bef5551",
   "metadata": {},
   "source": [
    "From the correlation chart, we can see that 'marital' and 'age' is the most highly correlated group which stands for -0.40. 'education' and 'job' are the Second highly correlated group which stands for 0.17, but it can be ignored neither. The other variables are nearly not related acording to the chart."
   ]
  },
  {
   "cell_type": "markdown",
   "id": "d4c273e3",
   "metadata": {},
   "source": [
    "### Boxplots"
   ]
  },
  {
   "cell_type": "code",
   "execution_count": 42,
   "id": "c7d25697",
   "metadata": {},
   "outputs": [
    {
     "data": {
      "image/png": "[encoded data removed]",
      "text/plain": [
       "<Figure size 2016x1440 with 12 Axes>"
      ]
     },
     "metadata": {
      "needs_background": "light"
     },
     "output_type": "display_data"
    }
   ],
   "source": [
    "fig, axes = plt.subplots(3, 4, figsize=(28, 20))\n",
    "\n",
    "sns.boxplot(ax=axes[0,0], data = bank_new.Target)\n",
    "axes[0,0].set_ylabel('Target',fontsize=15)\n",
    "\n",
    "sns.boxplot(ax=axes[0,1], data = bank_new.age)\n",
    "axes[0,1].set_ylabel('age',fontsize=15)\n",
    "\n",
    "sns.boxplot(ax=axes[0,2], data = bank_new.balance)\n",
    "axes[0,2].set_ylabel('balance',fontsize=15)\n",
    "\n",
    "sns.boxplot(ax=axes[0,3], data = bank_new.job)\n",
    "axes[0,3].set_ylabel('job',fontsize=15)\n",
    "\n",
    "sns.boxplot(ax=axes[1,0], data = bank_new.marital)\n",
    "axes[1,0].set_ylabel('marital',fontsize=15)\n",
    "\n",
    "sns.boxplot(ax=axes[1,1], data = bank_new.education)\n",
    "axes[1,1].set_ylabel('education',fontsize=15)\n",
    "\n",
    "sns.boxplot(ax=axes[1,2], data = bank_new.default)\n",
    "axes[1,2].set_ylabel('default',fontsize=15)\n",
    "\n",
    "sns.boxplot(ax=axes[1,3], data = bank_new.housing)\n",
    "axes[1,3].set_ylabel('housing',fontsize=15)\n",
    "\n",
    "sns.boxplot(ax=axes[2,0], data = bank_new.loan)\n",
    "axes[2,0].set_ylabel('loan',fontsize=15)\n",
    "\n",
    "plt.show()"
   ]
  },
  {
   "cell_type": "markdown",
   "id": "bab3d4fc",
   "metadata": {},
   "source": [
    "### Scatter Plot"
   ]
  },
  {
   "cell_type": "code",
   "execution_count": 45,
   "id": "0b18b271",
   "metadata": {},
   "outputs": [
    {
     "data": {
      "image/png": "[encoded data removed]",
      "text/plain": [
       "<Figure size 2016x1440 with 8 Axes>"
      ]
     },
     "metadata": {
      "needs_background": "light"
     },
     "output_type": "display_data"
    }
   ],
   "source": [
    "fig, axes = plt.subplots(2, 4, figsize=(28, 20))\n",
    "\n",
    "sns.scatterplot(ax=axes[0,0], data = bank_new, y = \"Target\", x = \"age\")\n",
    "axes[0,0].set_ylabel('Target vs Age',fontsize=15)\n",
    "\n",
    "sns.scatterplot(ax=axes[0,1], data = bank_new, y = \"Target\", x = \"balance\")\n",
    "axes[0,1].set_ylabel('Target vs Balance',fontsize=15)\n",
    "\n",
    "sns.scatterplot(ax=axes[0,2], data = bank_new, y = \"Target\", x = \"job\")\n",
    "axes[0,2].set_ylabel('Target vs Job',fontsize=15)\n",
    "\n",
    "sns.scatterplot(ax=axes[0,3], data = bank_new, y = \"Target\", x = \"marital\")\n",
    "axes[0,3].set_ylabel('Target vs Material',fontsize=15)\n",
    "\n",
    "sns.scatterplot(ax=axes[1,0],data = bank_new, y = \"Target\", x = \"education\")\n",
    "axes[1,0].set_ylabel('Target vs Material',fontsize=15)\n",
    "\n",
    "sns.scatterplot(ax=axes[1,1], data = bank_new, y = \"Target\", x = \"default\")\n",
    "axes[1,1].set_ylabel('Target vs Default',fontsize=15)\n",
    "\n",
    "sns.scatterplot(ax=axes[1,2], data = bank_new, y = \"Target\", x = \"housing\")\n",
    "axes[1,2].set_ylabel('Target vs Housing',fontsize=15)\n",
    "\n",
    "sns.scatterplot(ax=axes[1,3], data = bank_new, y = \"Target\", x = \"loan\")\n",
    "axes[1,3].set_ylabel('Target vs Loan',fontsize=15)\n",
    "\n",
    "\n",
    "plt.show()"
   ]
  },
  {
   "cell_type": "markdown",
   "id": "658b8113",
   "metadata": {},
   "source": [
    "The scatterplot of Target vs loan shows that the loan which influnce Target are nearly evenly distributed from 0.0 to 1.0."
   ]
  },
  {
   "cell_type": "markdown",
   "id": "b04e68d0",
   "metadata": {},
   "source": [
    "## 3. Which model is preferred?"
   ]
  },
  {
   "cell_type": "markdown",
   "id": "4cbd6f68",
   "metadata": {},
   "source": [
    "Before we start to split dataset and fit the model, we need to spend some time explaining the dependent variable. Based on common sense, it is hard to convince people buy things via teleselling. People are used to suspect the reliability of the selling firm, the product, and the seller who make the phone call. Under this circumstance, we try to change our threshold of probability to 0.2 (a figure larger than the mean of dependent variable Target). If the predict result is large than 0.2, we regard this people as a bank's target client who will subscribe the term deposit."
   ]
  },
  {
   "cell_type": "markdown",
   "id": "60a5d7a3",
   "metadata": {},
   "source": [
    "### Split dataset into two groups: train and predict"
   ]
  },
  {
   "cell_type": "code",
   "execution_count": 17,
   "id": "887b245e",
   "metadata": {},
   "outputs": [
    {
     "name": "stdout",
     "output_type": "stream",
     "text": [
      "<class 'pandas.core.frame.DataFrame'>\n",
      "RangeIndex: 45207 entries, 4 to 45210\n",
      "Data columns (total 9 columns):\n",
      " #   Column     Non-Null Count  Dtype\n",
      "---  ------     --------------  -----\n",
      " 0   Target     45207 non-null  int64\n",
      " 1   age        45207 non-null  int64\n",
      " 2   balance    45207 non-null  int64\n",
      " 3   job        45207 non-null  int64\n",
      " 4   marital    45207 non-null  int64\n",
      " 5   education  45207 non-null  int64\n",
      " 6   default    45207 non-null  int64\n",
      " 7   housing    45207 non-null  int64\n",
      " 8   loan       45207 non-null  int64\n",
      "dtypes: int64(9)\n",
      "memory usage: 3.1 MB\n"
     ]
    }
   ],
   "source": [
    "bank_new_train=bank_new.iloc[4:45211]\n",
    "bank_new_train.info()"
   ]
  },
  {
   "cell_type": "code",
   "execution_count": 18,
   "id": "7b7920c4",
   "metadata": {},
   "outputs": [
    {
     "name": "stdout",
     "output_type": "stream",
     "text": [
      "<class 'pandas.core.frame.DataFrame'>\n",
      "RangeIndex: 4 entries, 0 to 3\n",
      "Data columns (total 9 columns):\n",
      " #   Column     Non-Null Count  Dtype\n",
      "---  ------     --------------  -----\n",
      " 0   Target     4 non-null      int64\n",
      " 1   age        4 non-null      int64\n",
      " 2   balance    4 non-null      int64\n",
      " 3   job        4 non-null      int64\n",
      " 4   marital    4 non-null      int64\n",
      " 5   education  4 non-null      int64\n",
      " 6   default    4 non-null      int64\n",
      " 7   housing    4 non-null      int64\n",
      " 8   loan       4 non-null      int64\n",
      "dtypes: int64(9)\n",
      "memory usage: 416.0 bytes\n"
     ]
    }
   ],
   "source": [
    "bank_new_predict=bank_new.iloc[0:4]\n",
    "bank_new_predict.info()"
   ]
  },
  {
   "cell_type": "markdown",
   "id": "8693cf41",
   "metadata": {},
   "source": [
    "## Fit the three models"
   ]
  },
  {
   "cell_type": "markdown",
   "id": "0396fd92",
   "metadata": {},
   "source": [
    "### 1) Linear Probability Model"
   ]
  },
  {
   "cell_type": "code",
   "execution_count": 19,
   "id": "74121ba9",
   "metadata": {},
   "outputs": [
    {
     "name": "stdout",
     "output_type": "stream",
     "text": [
      "table: \n",
      "                b      se        t    pval\n",
      "Intercept  0.0842  0.0104   8.1122  0.0000\n",
      "age        0.0006  0.0002   3.2793  0.0010\n",
      "balance    0.0000  0.0000   5.9839  0.0000\n",
      "job        0.0012  0.0005   2.6878  0.0072\n",
      "marital    0.0229  0.0028   8.3160  0.0000\n",
      "education  0.0195  0.0021   9.5030  0.0000\n",
      "default   -0.0375  0.0089  -4.2188  0.0000\n",
      "housing   -0.0806  0.0032 -25.3777  0.0000\n",
      "loan      -0.0474  0.0034 -13.9181  0.0000\n",
      "\n"
     ]
    }
   ],
   "source": [
    "reg_lin = smf.ols(formula='Target ~ age+balance+job+marital+education+default+housing+loan',\n",
    "                  data=bank_new_train)\n",
    "results_lin = reg_lin.fit(cov_type='HC3')\n",
    "\n",
    "# Print regression table:\n",
    "table = pd.DataFrame({'b': round(results_lin.params, 4),\n",
    "                      'se': round(results_lin.bse, 4),\n",
    "                      't': round(results_lin.tvalues, 4),\n",
    "                      'pval': round(results_lin.pvalues, 4)})\n",
    "print(f'table: \\n{table}\\n')"
   ]
  },
  {
   "cell_type": "markdown",
   "id": "e2934232",
   "metadata": {},
   "source": [
    "### 2) Probit Model"
   ]
  },
  {
   "cell_type": "code",
   "execution_count": 20,
   "id": "df933a0e",
   "metadata": {},
   "outputs": [
    {
     "name": "stdout",
     "output_type": "stream",
     "text": [
      "results_probit.summary(): \n",
      "                          Probit Regression Results                           \n",
      "==============================================================================\n",
      "Dep. Variable:                 Target   No. Observations:                45207\n",
      "Model:                         Probit   Df Residuals:                    45198\n",
      "Method:                           MLE   Df Model:                            8\n",
      "Date:                Tue, 29 Nov 2022   Pseudo R-squ.:                 0.04036\n",
      "Time:                        19:19:37   Log-Likelihood:                -15657.\n",
      "converged:                       True   LL-Null:                       -16315.\n",
      "Covariance Type:            nonrobust   LLR p-value:                5.170e-279\n",
      "==============================================================================\n",
      "                 coef    std err          z      P>|z|      [0.025      0.975]\n",
      "------------------------------------------------------------------------------\n",
      "Intercept     -1.3950      0.050    -27.934      0.000      -1.493      -1.297\n",
      "age            0.0031      0.001      3.955      0.000       0.002       0.005\n",
      "balance     1.441e-05   2.27e-06      6.361      0.000    9.97e-06    1.88e-05\n",
      "job            0.0064      0.002      2.601      0.009       0.002       0.011\n",
      "marital        0.1183      0.014      8.243      0.000       0.090       0.146\n",
      "education      0.0993      0.011      9.303      0.000       0.078       0.120\n",
      "default       -0.2395      0.070     -3.425      0.001      -0.377      -0.102\n",
      "housing       -0.4113      0.016    -25.167      0.000      -0.443      -0.379\n",
      "loan          -0.2860      0.025    -11.651      0.000      -0.334      -0.238\n",
      "==============================================================================\n",
      "\n",
      "results_probit.llf: -15656.518725382635\n",
      "\n",
      "results_probit.prsquared: 0.04035928248398524\n",
      "\n"
     ]
    }
   ],
   "source": [
    "# Estimate a probit model:\n",
    "reg_probit = smf.probit(formula='Target ~ age+balance+job+marital+education+default+housing+loan',\n",
    "                        data=bank_new_train)\n",
    "results_probit = reg_probit.fit(disp=0)\n",
    "print(f'results_probit.summary(): \\n{results_probit.summary()}\\n')\n",
    "\n",
    "# log likelihood value:\n",
    "print(f'results_probit.llf: {results_probit.llf}\\n')\n",
    "\n",
    "# McFadden's pseudo R2:\n",
    "print(f'results_probit.prsquared: {results_probit.prsquared}\\n')"
   ]
  },
  {
   "cell_type": "markdown",
   "id": "98edddb3",
   "metadata": {},
   "source": [
    "### 3) Logit Model"
   ]
  },
  {
   "cell_type": "code",
   "execution_count": 21,
   "id": "25542871",
   "metadata": {},
   "outputs": [
    {
     "name": "stdout",
     "output_type": "stream",
     "text": [
      "results_logit.summary(): \n",
      "                           Logit Regression Results                           \n",
      "==============================================================================\n",
      "Dep. Variable:                 Target   No. Observations:                45207\n",
      "Model:                          Logit   Df Residuals:                    45198\n",
      "Method:                           MLE   Df Model:                            8\n",
      "Date:                Tue, 29 Nov 2022   Pseudo R-squ.:                 0.04080\n",
      "Time:                        19:19:37   Log-Likelihood:                -15649.\n",
      "converged:                       True   LL-Null:                       -16315.\n",
      "Covariance Type:            nonrobust   LLR p-value:                3.765e-282\n",
      "==============================================================================\n",
      "                 coef    std err          z      P>|z|      [0.025      0.975]\n",
      "------------------------------------------------------------------------------\n",
      "Intercept     -2.4453      0.095    -25.651      0.000      -2.632      -2.258\n",
      "age            0.0064      0.002      4.269      0.000       0.003       0.009\n",
      "balance     2.391e-05   3.92e-06      6.101      0.000    1.62e-05    3.16e-05\n",
      "job            0.0130      0.005      2.764      0.006       0.004       0.022\n",
      "marital        0.2354      0.028      8.527      0.000       0.181       0.290\n",
      "education      0.1838      0.020      9.261      0.000       0.145       0.223\n",
      "default       -0.5023      0.146     -3.448      0.001      -0.788      -0.217\n",
      "housing       -0.7903      0.031    -25.188      0.000      -0.852      -0.729\n",
      "loan          -0.5861      0.050    -11.669      0.000      -0.685      -0.488\n",
      "==============================================================================\n",
      "\n",
      "results_logit.llf: -15649.261070625365\n",
      "\n",
      "results_logit.prsquared: 0.04080412842643466\n",
      "\n"
     ]
    }
   ],
   "source": [
    "# Estimate a logit model:\n",
    "reg_logit = smf.logit(formula='Target ~ age+balance+job+marital+education+default+housing+loan',\n",
    "                      data=bank_new_train)\n",
    "\n",
    "# disp = 0 avoids printing out information during the estimation:\n",
    "results_logit = reg_logit.fit(disp=0)\n",
    "print(f'results_logit.summary(): \\n{results_logit.summary()}\\n')\n",
    "\n",
    "# log likelihood value:\n",
    "print(f'results_logit.llf: {results_logit.llf}\\n')\n",
    "\n",
    "# McFadden's pseudo R2:\n",
    "print(f'results_logit.prsquared: {results_logit.prsquared}\\n')"
   ]
  },
  {
   "cell_type": "markdown",
   "id": "2be34c6d",
   "metadata": {},
   "source": [
    "## Prediction"
   ]
  },
  {
   "cell_type": "code",
   "execution_count": 22,
   "id": "d62de1eb",
   "metadata": {},
   "outputs": [
    {
     "name": "stdout",
     "output_type": "stream",
     "text": [
      "lin predictions: \n",
      "0    0.113551\n",
      "1    0.107047\n",
      "2    0.021334\n",
      "3    0.120367\n",
      "dtype: float64\n",
      "\n",
      "probit predictions: \n",
      "0    0.105522\n",
      "1    0.101348\n",
      "2    0.039357\n",
      "3    0.112293\n",
      "dtype: float64\n",
      "\n",
      "logit predictions: \n",
      "0    0.103796\n",
      "1    0.101555\n",
      "2    0.040551\n",
      "3    0.109399\n",
      "dtype: float64\n",
      "\n"
     ]
    }
   ],
   "source": [
    "predictions = results_lin.predict(bank_new_predict)\n",
    "\n",
    "print(f'lin predictions: \\n{predictions}\\n')\n",
    "\n",
    "predictions = results_probit.predict(bank_new_predict)\n",
    "\n",
    "print(f'probit predictions: \\n{predictions}\\n')\n",
    "\n",
    "predictions = results_logit.predict(bank_new_predict)\n",
    "\n",
    "print(f'logit predictions: \\n{predictions}\\n')"
   ]
  },
  {
   "cell_type": "markdown",
   "id": "d50f9068",
   "metadata": {},
   "source": [
    "### Confusion Matrix"
   ]
  },
  {
   "cell_type": "code",
   "execution_count": 23,
   "id": "28d7b312",
   "metadata": {},
   "outputs": [
    {
     "name": "stdout",
     "output_type": "stream",
     "text": [
      "      [,1] [,2]\n",
      "[1,] 38007 4710\n",
      "[2,]  1915  579\n"
     ]
    }
   ],
   "source": [
    "%%R\n",
    "# Mode 1: OLS Model\n",
    "ols.mod = lm(Target ~ age+balance+job+marital+education+default+housing+loan,data=bankf)\n",
    "#summary(ols.mod)\n",
    "\n",
    "ols.pred.classes <- ifelse(fitted(ols.mod) > 0.2, 1, 0)\n",
    "table(ols.pred.classes, bankf$Target)"
   ]
  },
  {
   "cell_type": "code",
   "execution_count": 24,
   "id": "3904db76",
   "metadata": {},
   "outputs": [
    {
     "name": "stdout",
     "output_type": "stream",
     "text": [
      "Lin F1 Score: \n",
      "0.9198320405619623\n",
      "\n"
     ]
    }
   ],
   "source": [
    "P=38007/(38007+4710)\n",
    "R=38007/(38007+1915)\n",
    "F1=2*P*R/(P+R)\n",
    "\n",
    "print(f'Lin F1 Score: \\n{F1}\\n')"
   ]
  },
  {
   "cell_type": "code",
   "execution_count": 25,
   "id": "a03f5a1d",
   "metadata": {},
   "outputs": [
    {
     "name": "stdout",
     "output_type": "stream",
     "text": [
      "      [,1] [,2]\n",
      "[1,] 36870 4368\n",
      "[2,]  3052  921\n"
     ]
    }
   ],
   "source": [
    "%%R\n",
    "# Model 2: Probit\n",
    "probit.mod = glm(Target ~ age+balance+job+marital+education+default+housing+loan, family=binomial(link=\"probit\"),\n",
    "data=bankf)\n",
    "probit.pred.classes <- ifelse(fitted(probit.mod) > 0.2, 1, 0)\n",
    "table(probit.pred.classes, bankf$Target)"
   ]
  },
  {
   "cell_type": "code",
   "execution_count": 26,
   "id": "e071cac6",
   "metadata": {},
   "outputs": [
    {
     "name": "stdout",
     "output_type": "stream",
     "text": [
      "Probit F1 Score: \n",
      "0.9085756530310497\n",
      "\n"
     ]
    }
   ],
   "source": [
    "P=36870/(36870+4368)\n",
    "R=36870/(36870+3052)\n",
    "F1=2*P*R/(P+R)\n",
    "\n",
    "print(f'Probit F1 Score: \\n{F1}\\n')"
   ]
  },
  {
   "cell_type": "code",
   "execution_count": 27,
   "id": "0e74b85b",
   "metadata": {},
   "outputs": [
    {
     "name": "stdout",
     "output_type": "stream",
     "text": [
      "      [,1] [,2]\n",
      "[1,] 36668 4311\n",
      "[2,]  3254  978\n"
     ]
    }
   ],
   "source": [
    "%%R\n",
    "# Model 3: Logit\n",
    "logit.mod = glm(Target ~ age+balance+job+marital+education+default+housing+loan, family=binomial(link=\"logit\"),\n",
    "data=bankf)\n",
    "logit.pred.classes <- ifelse(fitted(logit.mod) > 0.2, 1, 0)\n",
    "table(logit.pred.classes, bankf$Target)"
   ]
  },
  {
   "cell_type": "code",
   "execution_count": 28,
   "id": "bcca18cb",
   "metadata": {},
   "outputs": [
    {
     "name": "stdout",
     "output_type": "stream",
     "text": [
      "Logit F1 Score: \n",
      "0.932731319554849\n",
      "\n"
     ]
    }
   ],
   "source": [
    "P=36668/(36668+4311)\n",
    "R=36668/(36668+978)\n",
    "F1=2*P*R/(P+R)\n",
    "\n",
    "print(f'Logit F1 Score: \\n{F1}\\n')"
   ]
  },
  {
   "cell_type": "markdown",
   "id": "48dbe37e",
   "metadata": {},
   "source": [
    "Judging from the calculation results, we use confusion matrix to make our final decision. That is, the higher F1 score is, the better the model. Thus, we choose Logit Model."
   ]
  },
  {
   "cell_type": "markdown",
   "id": "a2926b9b",
   "metadata": {},
   "source": [
    "## 4. Final Model Prediction"
   ]
  },
  {
   "cell_type": "code",
   "execution_count": 31,
   "id": "506faed9",
   "metadata": {},
   "outputs": [
    {
     "name": "stdout",
     "output_type": "stream",
     "text": [
      "logit predictions: \n",
      "0    0.103796\n",
      "1    0.101555\n",
      "2    0.040551\n",
      "3    0.109399\n",
      "dtype: float64\n",
      "\n"
     ]
    }
   ],
   "source": [
    "predictions = results_logit.predict(bank_new_predict)\n",
    "\n",
    "print(f'logit predictions: \\n{predictions}\\n')"
   ]
  },
  {
   "cell_type": "markdown",
   "id": "c846ff37",
   "metadata": {},
   "source": [
    "Recall our threshold 0.2, we regard the client #0, #1, #2, #3 as the man who will not subscribe the term deposit, which is correct in terms of the true result."
   ]
  },
  {
   "cell_type": "markdown",
   "id": "2ce29c6b",
   "metadata": {},
   "source": []
  }
 ],
 "metadata": {
  "kernelspec": {
   "display_name": "Python 3 (ipykernel)",
   "language": "python",
   "name": "python3"
  },
  "language_info": {
   "codemirror_mode": {
    "name": "ipython",
    "version": 3
   },
   "file_extension": ".py",
   "mimetype": "text/x-python",
   "name": "python",
   "nbconvert_exporter": "python",
   "pygments_lexer": "ipython3",
   "version": "3.9.12"
  }
 },
 "nbformat": 4,
 "nbformat_minor": 5
}
